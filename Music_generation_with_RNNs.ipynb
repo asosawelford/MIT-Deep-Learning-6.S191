{
  "nbformat": 4,
  "nbformat_minor": 0,
  "metadata": {
    "colab": {
      "name": "Music generation with RNNs.ipynb",
      "private_outputs": true,
      "provenance": [],
      "authorship_tag": "ABX9TyM4QZN42FGb326J+f9BnfJc",
      "include_colab_link": true
    },
    "kernelspec": {
      "name": "python3",
      "display_name": "Python 3"
    },
    "language_info": {
      "name": "python"
    }
  },
  "cells": [
    {
      "cell_type": "markdown",
      "metadata": {
        "id": "view-in-github",
        "colab_type": "text"
      },
      "source": [
        "<a href=\"https://colab.research.google.com/github/asosawelford/MIT-Deep-Learning-6.S191/blob/main/Music_generation_with_RNNs.ipynb\" target=\"_parent\"><img src=\"https://colab.research.google.com/assets/colab-badge.svg\" alt=\"Open In Colab\"/></a>"
      ]
    },
    {
      "cell_type": "code",
      "execution_count": null,
      "metadata": {
        "id": "Ymqa24G2yvnT"
      },
      "outputs": [],
      "source": [
        "test"
      ]
    },
    {
      "cell_type": "markdown",
      "source": [
        "# Music Generation with RNNs\n"
      ],
      "metadata": {
        "id": "cRCJZsQugGfl"
      }
    }
  ]
}